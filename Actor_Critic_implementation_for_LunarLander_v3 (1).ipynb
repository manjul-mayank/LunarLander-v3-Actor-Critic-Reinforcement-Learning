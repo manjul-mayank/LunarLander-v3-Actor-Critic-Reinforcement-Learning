{
  "nbformat": 4,
  "nbformat_minor": 0,
  "metadata": {
    "colab": {
      "provenance": [],
      "gpuType": "T4"
    },
    "kernelspec": {
      "name": "python3",
      "display_name": "Python 3"
    },
    "language_info": {
      "name": "python"
    },
    "accelerator": "GPU"
  },
  "cells": [
    {
      "cell_type": "code",
      "source": [
        "!pip install swig\n",
        "!pip install \"gymnasium[box2d]\"\n",
        "!pip install imageio\n"
      ],
      "metadata": {
        "colab": {
          "base_uri": "https://localhost:8080/"
        },
        "id": "uQNqzY-7-KKa",
        "outputId": "8080b3d8-92de-4933-af37-a061ecd900ca"
      },
      "execution_count": 1,
      "outputs": [
        {
          "output_type": "stream",
          "name": "stdout",
          "text": [
            "Collecting swig\n",
            "  Downloading swig-4.3.1-py3-none-manylinux_2_12_x86_64.manylinux2010_x86_64.whl.metadata (3.5 kB)\n",
            "Downloading swig-4.3.1-py3-none-manylinux_2_12_x86_64.manylinux2010_x86_64.whl (1.9 MB)\n",
            "\u001b[?25l   \u001b[90m━━━━━━━━━━━━━━━━━━━━━━━━━━━━━━━━━━━━━━━━\u001b[0m \u001b[32m0.0/1.9 MB\u001b[0m \u001b[31m?\u001b[0m eta \u001b[36m-:--:--\u001b[0m\r\u001b[2K   \u001b[91m━━━━━━━━━━━━━━━━━━━━━━━━━━━━━━━━━━━━━━━\u001b[0m\u001b[91m╸\u001b[0m \u001b[32m1.9/1.9 MB\u001b[0m \u001b[31m131.3 MB/s\u001b[0m eta \u001b[36m0:00:01\u001b[0m\r\u001b[2K   \u001b[90m━━━━━━━━━━━━━━━━━━━━━━━━━━━━━━━━━━━━━━━━\u001b[0m \u001b[32m1.9/1.9 MB\u001b[0m \u001b[31m49.4 MB/s\u001b[0m eta \u001b[36m0:00:00\u001b[0m\n",
            "\u001b[?25hInstalling collected packages: swig\n",
            "Successfully installed swig-4.3.1\n",
            "Requirement already satisfied: gymnasium[box2d] in /usr/local/lib/python3.11/dist-packages (1.2.0)\n",
            "Requirement already satisfied: numpy>=1.21.0 in /usr/local/lib/python3.11/dist-packages (from gymnasium[box2d]) (2.0.2)\n",
            "Requirement already satisfied: cloudpickle>=1.2.0 in /usr/local/lib/python3.11/dist-packages (from gymnasium[box2d]) (3.1.1)\n",
            "Requirement already satisfied: typing-extensions>=4.3.0 in /usr/local/lib/python3.11/dist-packages (from gymnasium[box2d]) (4.14.1)\n",
            "Requirement already satisfied: farama-notifications>=0.0.1 in /usr/local/lib/python3.11/dist-packages (from gymnasium[box2d]) (0.0.4)\n",
            "Collecting box2d-py==2.3.5 (from gymnasium[box2d])\n",
            "  Downloading box2d-py-2.3.5.tar.gz (374 kB)\n",
            "\u001b[2K     \u001b[90m━━━━━━━━━━━━━━━━━━━━━━━━━━━━━━━━━━━━━━\u001b[0m \u001b[32m374.4/374.4 kB\u001b[0m \u001b[31m23.4 MB/s\u001b[0m eta \u001b[36m0:00:00\u001b[0m\n",
            "\u001b[?25h  Preparing metadata (setup.py) ... \u001b[?25l\u001b[?25hdone\n",
            "Requirement already satisfied: pygame>=2.1.3 in /usr/local/lib/python3.11/dist-packages (from gymnasium[box2d]) (2.6.1)\n",
            "Requirement already satisfied: swig==4.* in /usr/local/lib/python3.11/dist-packages (from gymnasium[box2d]) (4.3.1)\n",
            "Building wheels for collected packages: box2d-py\n",
            "  Building wheel for box2d-py (setup.py) ... \u001b[?25l\u001b[?25hdone\n",
            "  Created wheel for box2d-py: filename=box2d_py-2.3.5-cp311-cp311-linux_x86_64.whl size=2379414 sha256=0dad3639044d3731775a5973fb639dfabab0db61cade3a8431ac16e107c14eb7\n",
            "  Stored in directory: /root/.cache/pip/wheels/ab/f1/0c/d56f4a2bdd12bae0a0693ec33f2f0daadb5eb9753c78fa5308\n",
            "Successfully built box2d-py\n",
            "Installing collected packages: box2d-py\n",
            "Successfully installed box2d-py-2.3.5\n",
            "Requirement already satisfied: imageio in /usr/local/lib/python3.11/dist-packages (2.37.0)\n",
            "Requirement already satisfied: numpy in /usr/local/lib/python3.11/dist-packages (from imageio) (2.0.2)\n",
            "Requirement already satisfied: pillow>=8.3.2 in /usr/local/lib/python3.11/dist-packages (from imageio) (11.3.0)\n"
          ]
        }
      ]
    },
    {
      "cell_type": "code",
      "source": [
        "import gymnasium as gym\n",
        "import numpy as np\n",
        "import tensorflow as tf\n",
        "from tensorflow import keras\n",
        "from tensorflow.keras import layers\n",
        "import matplotlib.pyplot as plt\n",
        "import imageio\n",
        "from tqdm import tqdm\n",
        "import os\n",
        "from collections import deque\n",
        "\n",
        "class Config:\n",
        "    SEED = 42\n",
        "    GAMMA = 0.995  # ↑ Helps capture long-term rewards better\n",
        "    GAE_LAMBDA = 0.97  # ↑ Slightly smoother advantage estimates\n",
        "    MAX_EPISODES = 3000  # ↑ More training room for consistent learning\n",
        "    LEARNING_RATE = 0.00015  # ↓ Slower learning to stabilize updates\n",
        "    ENTROPY_COEFF = 0.005  # ↓ Less random, more focused policy\n",
        "    CLIP_GRAD_NORM = 0.5  # ✓ Stable gradient norms\n",
        "    SAVE_INTERVAL = 50  # ↑ Less frequent but consistent saves\n",
        "    TARGET_AVG_REWARD = 200  # ↑ Set to match environment's actual \"solved\" threshold\n",
        "    PATIENCE = 500  # ✓ Still useful for early stopping\n",
        "    CHECKPOINT_DIR = \"checkpoints\"\n",
        "    VIDEO_DIR = \"videos\"\n",
        "    SUCCESS_THRESHOLD = 200  # ↑ Agent considered successful at official benchmark\n",
        "    FAILURE_THRESHOLD = -150  # ✓ Reasonable for failed episodes\n",
        "    NEUTRAL_ZONE = 25  # ↓ Stricter buffer\n",
        "    WINDOW_SIZE = 50  # ↑ Smoother trend in plots\n",
        "    MIN_EPISODE_LENGTH = 10  # ↑ Skip very short unstable episodes\n",
        "\n",
        "tf.keras.backend.set_floatx('float32')\n",
        "tf.random.set_seed(Config.SEED)\n",
        "np.random.seed(Config.SEED)\n",
        "\n",
        "env = gym.make(\"LunarLander-v3\", render_mode='rgb_array')\n",
        "num_inputs = env.observation_space.shape[0]\n",
        "num_actions = env.action_space.n\n",
        "\n",
        "def create_network():\n",
        "    inputs = layers.Input(shape=(num_inputs,))\n",
        "    x = layers.Dense(256, activation='relu')(inputs)\n",
        "    x = layers.LayerNormalization()(x)\n",
        "    x = layers.Dense(256, activation='relu')(x)\n",
        "    x = layers.LayerNormalization()(x)\n",
        "    x = layers.Dense(128, activation='relu')(x)\n",
        "\n",
        "    action_probs = layers.Dense(num_actions, activation='softmax')(x)\n",
        "    critic_value = layers.Dense(1)(x)\n",
        "\n",
        "    model = keras.Model(inputs=inputs, outputs=[action_probs, critic_value])\n",
        "\n",
        "    lr_schedule = keras.optimizers.schedules.ExponentialDecay(\n",
        "        initial_learning_rate=Config.LEARNING_RATE,\n",
        "        decay_steps=1500,  # ↑ Slower decay\n",
        "        decay_rate=0.90\n",
        "    )\n",
        "\n",
        "    optimizer = keras.optimizers.Adam(learning_rate=lr_schedule, epsilon=1e-5)\n",
        "    return model, optimizer\n",
        "\n",
        "model, optimizer = create_network()\n",
        "\n",
        "checkpoint = tf.train.Checkpoint(model=model, optimizer=optimizer)\n",
        "manager = tf.train.CheckpointManager(\n",
        "    checkpoint,\n",
        "    directory=Config.CHECKPOINT_DIR,\n",
        "    max_to_keep=3\n",
        ")\n",
        "\n",
        "def compute_advantages(rewards, values, dones):\n",
        "    if len(rewards) < Config.MIN_EPISODE_LENGTH:\n",
        "        return np.zeros_like(rewards, dtype=np.float32), np.zeros_like(rewards, dtype=np.float32)\n",
        "\n",
        "    rewards = np.array(rewards, dtype=np.float32)\n",
        "    values = np.array(values, dtype=np.float32)\n",
        "    dones = np.array(dones, dtype=np.float32)\n",
        "\n",
        "    advantages = []\n",
        "    last_advantage = 0\n",
        "    next_value = 0\n",
        "    next_not_done = 1\n",
        "\n",
        "    for t in reversed(range(len(rewards))):\n",
        "        delta = rewards[t] + Config.GAMMA * next_value * next_not_done - values[t]\n",
        "        last_advantage = delta + Config.GAMMA * Config.GAE_LAMBDA * next_not_done * last_advantage\n",
        "        advantages.insert(0, last_advantage)\n",
        "        next_value = values[t]\n",
        "        next_not_done = 1 - dones[t]\n",
        "\n",
        "    returns = np.array(advantages) + values\n",
        "    advantages = (advantages - np.mean(advantages)) / (np.std(advantages) + 1e-8)\n",
        "    return advantages.astype(np.float32), returns.astype(np.float32)\n",
        "\n",
        "def log_tensorboard(writer, episode, reward):\n",
        "    with writer.as_default():\n",
        "        tf.summary.scalar('Episode Reward', reward, step=episode)\n",
        "        writer.flush()\n",
        "\n",
        "def train():\n",
        "    episode_rewards = []\n",
        "    success_history = []\n",
        "    failure_history = []\n",
        "    best_avg_reward = -np.inf\n",
        "    no_improvement_count = 0\n",
        "\n",
        "    summary_writer = tf.summary.create_file_writer(\"logs/\")\n",
        "    os.makedirs(Config.CHECKPOINT_DIR, exist_ok=True)\n",
        "\n",
        "    for episode in tqdm(range(Config.MAX_EPISODES), desc=\"Training Episodes\"):\n",
        "        state, _ = env.reset(seed=Config.SEED + episode)\n",
        "        state = np.array(state, dtype=np.float32)\n",
        "\n",
        "        states, actions, rewards = [], [], []\n",
        "        values, dones = [], []\n",
        "\n",
        "        for t in range(1000):\n",
        "            state_tensor = tf.convert_to_tensor(state[None, :], dtype=tf.float32)\n",
        "            action_probs, critic_value = model(state_tensor)\n",
        "            action = np.random.choice(num_actions, p=tf.squeeze(action_probs).numpy())\n",
        "            next_state, reward, terminated, truncated, _ = env.step(action)\n",
        "\n",
        "            states.append(state)\n",
        "            actions.append(action)\n",
        "            rewards.append(reward)\n",
        "            values.append(tf.squeeze(critic_value).numpy())\n",
        "            dones.append(terminated or truncated)\n",
        "            state = np.array(next_state, dtype=np.float32)\n",
        "\n",
        "            if terminated or truncated:\n",
        "                break\n",
        "\n",
        "        if len(rewards) < Config.MIN_EPISODE_LENGTH:\n",
        "            print(f\"\\nEpisode {episode + 1} too short ({len(rewards)} steps), skipping update\")\n",
        "            continue\n",
        "\n",
        "        advantages, returns = compute_advantages(rewards, values, dones)\n",
        "        states = tf.convert_to_tensor(np.array(states, dtype=np.float32))\n",
        "        actions = tf.convert_to_tensor(actions, dtype=tf.int32)\n",
        "        advantages = tf.convert_to_tensor(advantages, dtype=tf.float32)\n",
        "        returns = tf.convert_to_tensor(returns, dtype=tf.float32)\n",
        "\n",
        "        with tf.GradientTape() as tape:\n",
        "            probs, values = model(states)\n",
        "            action_masks = tf.one_hot(actions, num_actions)\n",
        "            log_probs = tf.math.log(tf.reduce_sum(probs * action_masks, axis=1) + 1e-8)\n",
        "\n",
        "            policy_loss = -tf.reduce_mean(log_probs * advantages)\n",
        "            entropy = -tf.reduce_sum(probs * tf.math.log(probs + 1e-8), axis=1)\n",
        "            entropy_loss = -tf.reduce_mean(entropy)\n",
        "            critic_loss = keras.losses.MSE(returns, tf.squeeze(values))\n",
        "            total_loss = policy_loss + 0.5 * critic_loss + Config.ENTROPY_COEFF * entropy_loss\n",
        "\n",
        "        grads = tape.gradient(total_loss, model.trainable_variables)\n",
        "        grads, _ = tf.clip_by_global_norm(grads, Config.CLIP_GRAD_NORM)\n",
        "        optimizer.apply_gradients(zip(grads, model.trainable_variables))\n",
        "\n",
        "        total_reward = sum(rewards)\n",
        "        episode_rewards.append(total_reward)\n",
        "        log_tensorboard(summary_writer, episode, total_reward)\n",
        "\n",
        "        if total_reward >= Config.SUCCESS_THRESHOLD + Config.NEUTRAL_ZONE:\n",
        "            success_history.append(1)\n",
        "            failure_history.append(0)\n",
        "        elif total_reward <= Config.FAILURE_THRESHOLD - Config.NEUTRAL_ZONE:\n",
        "            success_history.append(0)\n",
        "            failure_history.append(1)\n",
        "        else:\n",
        "            success_history.append(0)\n",
        "            failure_history.append(0)\n",
        "\n",
        "        if len(episode_rewards) >= Config.PATIENCE:\n",
        "            avg_reward = np.mean(episode_rewards[-Config.PATIENCE:])\n",
        "            if avg_reward > best_avg_reward:\n",
        "                best_avg_reward = avg_reward\n",
        "                no_improvement_count = 0\n",
        "                manager.save()\n",
        "            else:\n",
        "                no_improvement_count += 1\n",
        "\n",
        "            if avg_reward >= Config.TARGET_AVG_REWARD:\n",
        "                print(f\"\\nEarly stopping at episode {episode + 1} with average reward {avg_reward:.2f}\")\n",
        "                break\n",
        "            elif no_improvement_count >= Config.PATIENCE:\n",
        "                print(f\"\\nNo improvement for {Config.PATIENCE} episodes\")\n",
        "                break\n",
        "\n",
        "        if (episode + 1) % Config.SAVE_INTERVAL == 0:\n",
        "            avg_reward = np.mean(episode_rewards[-Config.SAVE_INTERVAL:])\n",
        "            success_rate = np.mean(success_history[-Config.SAVE_INTERVAL:])\n",
        "            failure_rate = np.mean(failure_history[-Config.SAVE_INTERVAL:])\n",
        "            print(f\"\\nEpisode {episode + 1}, Avg Reward: {avg_reward:.2f}, \"\n",
        "                  f\"Success Rate: {success_rate:.2%}, Failure Rate: {failure_rate:.2%}, \"\n",
        "                  f\"Neutral Rate: {1 - success_rate - failure_rate:.2%}\")\n",
        "\n",
        "    return episode_rewards, success_history, failure_history\n",
        "\n",
        "def plot_results(rewards, successes, failures):\n",
        "    episodes = range(len(rewards))\n",
        "    plt.figure(figsize=(12, 5))\n",
        "\n",
        "    plt.subplot(1, 2, 1)\n",
        "    plt.plot(episodes, rewards, label='Episode Reward')\n",
        "    plt.xlabel('Episode')\n",
        "    plt.ylabel('Reward')\n",
        "    plt.title('Episode Rewards')\n",
        "    plt.grid(True)\n",
        "\n",
        "    plt.subplot(1, 2, 2)\n",
        "    window = Config.WINDOW_SIZE\n",
        "    if len(successes) >= window:\n",
        "        success_rate = np.convolve(successes, np.ones(window)/window, mode='valid')\n",
        "        failure_rate = np.convolve(failures, np.ones(window)/window, mode='valid')\n",
        "        neutral_rate = 1 - success_rate - failure_rate\n",
        "        plt.plot(success_rate, label='Success Rate')\n",
        "        plt.plot(failure_rate, label='Failure Rate')\n",
        "        plt.plot(neutral_rate, label='Neutral Rate')\n",
        "    else:\n",
        "        print(\"Not enough episodes to compute moving averages.\")\n",
        "\n",
        "    plt.xlabel('Episode')\n",
        "    plt.ylabel('Rate')\n",
        "    plt.title(f'{window}-Episode Moving Average')\n",
        "    plt.legend()\n",
        "    plt.grid(True)\n",
        "\n",
        "    plt.tight_layout()\n",
        "    plt.show()\n",
        "\n",
        "def record_video(model, episodes=1):\n",
        "    os.makedirs(Config.VIDEO_DIR, exist_ok=True)\n",
        "    for ep in range(episodes):\n",
        "        frames = []\n",
        "        state, _ = env.reset(seed=Config.SEED + ep)\n",
        "        state = np.array(state, dtype=np.float32)\n",
        "\n",
        "        done = False\n",
        "        while not done:\n",
        "            state_tensor = tf.convert_to_tensor(state[None, :], dtype=tf.float32)\n",
        "            action_probs, _ = model(state_tensor)\n",
        "            action = tf.argmax(action_probs[0]).numpy()\n",
        "            next_state, _, terminated, truncated, _ = env.step(action)\n",
        "            frames.append(env.render())\n",
        "            done = terminated or truncated\n",
        "            state = np.array(next_state, dtype=np.float32)\n",
        "\n",
        "        video_path = os.path.join(Config.VIDEO_DIR, f\"lunar_ep{ep+1}.mp4\")\n",
        "        imageio.mimsave(video_path, frames, fps=30)\n",
        "        print(f\"Saved episode {ep+1} video to {video_path}\")\n",
        "\n",
        "if __name__ == \"__main__\":\n",
        "    rewards, successes, failures = train()\n",
        "\n",
        "    total_episodes = len(rewards)\n",
        "    success_rate = sum(successes) / total_episodes\n",
        "    failure_rate = sum(failures) / total_episodes\n",
        "    neutral_rate = 1 - success_rate - failure_rate\n",
        "\n",
        "    print(f\"\\nFinal Results:\")\n",
        "    print(f\"Success Rate: {success_rate:.2%}\")\n",
        "    print(f\"Failure Rate: {failure_rate:.2%}\")\n",
        "    print(f\"Neutral Rate: {neutral_rate:.2%}\")\n",
        "\n",
        "    plot_results(rewards, successes, failures)\n",
        "    checkpoint.restore(manager.latest_checkpoint)\n",
        "    record_video(model)\n",
        "    env.close()\n"
      ],
      "metadata": {
        "colab": {
          "base_uri": "https://localhost:8080/",
          "height": 1000
        },
        "id": "CLXoU_fXMgjk",
        "outputId": "bd5782c9-fac8-4971-de0f-6bab9d0495a9"
      },
      "execution_count": 3,
      "outputs": [
        {
          "output_type": "stream",
          "name": "stderr",
          "text": [
            "Training Episodes:   2%|▏         | 50/3000 [00:49<41:35,  1.18it/s]"
          ]
        },
        {
          "output_type": "stream",
          "name": "stdout",
          "text": [
            "\n",
            "Episode 50, Avg Reward: -475.22, Success Rate: 0.00%, Failure Rate: 98.00%, Neutral Rate: 2.00%\n"
          ]
        },
        {
          "output_type": "stream",
          "name": "stderr",
          "text": [
            "Training Episodes:   3%|▎         | 100/3000 [01:35<49:38,  1.03s/it]"
          ]
        },
        {
          "output_type": "stream",
          "name": "stdout",
          "text": [
            "\n",
            "Episode 100, Avg Reward: -527.79, Success Rate: 0.00%, Failure Rate: 100.00%, Neutral Rate: 0.00%\n"
          ]
        },
        {
          "output_type": "stream",
          "name": "stderr",
          "text": [
            "Training Episodes:   5%|▌         | 150/3000 [02:23<50:54,  1.07s/it]"
          ]
        },
        {
          "output_type": "stream",
          "name": "stdout",
          "text": [
            "\n",
            "Episode 150, Avg Reward: -568.64, Success Rate: 0.00%, Failure Rate: 100.00%, Neutral Rate: 0.00%\n"
          ]
        },
        {
          "output_type": "stream",
          "name": "stderr",
          "text": [
            "Training Episodes:   7%|▋         | 200/3000 [03:09<47:00,  1.01s/it]"
          ]
        },
        {
          "output_type": "stream",
          "name": "stdout",
          "text": [
            "\n",
            "Episode 200, Avg Reward: -525.29, Success Rate: 0.00%, Failure Rate: 100.00%, Neutral Rate: 0.00%\n"
          ]
        },
        {
          "output_type": "stream",
          "name": "stderr",
          "text": [
            "Training Episodes:   8%|▊         | 250/3000 [03:55<46:09,  1.01s/it]"
          ]
        },
        {
          "output_type": "stream",
          "name": "stdout",
          "text": [
            "\n",
            "Episode 250, Avg Reward: -547.60, Success Rate: 0.00%, Failure Rate: 100.00%, Neutral Rate: 0.00%\n"
          ]
        },
        {
          "output_type": "stream",
          "name": "stderr",
          "text": [
            "Training Episodes:  10%|█         | 300/3000 [04:40<41:40,  1.08it/s]"
          ]
        },
        {
          "output_type": "stream",
          "name": "stdout",
          "text": [
            "\n",
            "Episode 300, Avg Reward: -541.94, Success Rate: 0.00%, Failure Rate: 100.00%, Neutral Rate: 0.00%\n"
          ]
        },
        {
          "output_type": "stream",
          "name": "stderr",
          "text": [
            "Training Episodes:  12%|█▏        | 350/3000 [05:26<42:31,  1.04it/s]"
          ]
        },
        {
          "output_type": "stream",
          "name": "stdout",
          "text": [
            "\n",
            "Episode 350, Avg Reward: -540.87, Success Rate: 0.00%, Failure Rate: 100.00%, Neutral Rate: 0.00%\n"
          ]
        },
        {
          "output_type": "stream",
          "name": "stderr",
          "text": [
            "Training Episodes:  13%|█▎        | 400/3000 [06:12<41:24,  1.05it/s]"
          ]
        },
        {
          "output_type": "stream",
          "name": "stdout",
          "text": [
            "\n",
            "Episode 400, Avg Reward: -521.86, Success Rate: 0.00%, Failure Rate: 100.00%, Neutral Rate: 0.00%\n"
          ]
        },
        {
          "output_type": "stream",
          "name": "stderr",
          "text": [
            "Training Episodes:  15%|█▌        | 450/3000 [06:57<45:11,  1.06s/it]"
          ]
        },
        {
          "output_type": "stream",
          "name": "stdout",
          "text": [
            "\n",
            "Episode 450, Avg Reward: -514.87, Success Rate: 0.00%, Failure Rate: 100.00%, Neutral Rate: 0.00%\n"
          ]
        },
        {
          "output_type": "stream",
          "name": "stderr",
          "text": [
            "Training Episodes:  17%|█▋        | 500/3000 [07:42<40:30,  1.03it/s]"
          ]
        },
        {
          "output_type": "stream",
          "name": "stdout",
          "text": [
            "\n",
            "Episode 500, Avg Reward: -377.46, Success Rate: 0.00%, Failure Rate: 84.00%, Neutral Rate: 16.00%\n"
          ]
        },
        {
          "output_type": "stream",
          "name": "stderr",
          "text": [
            "Training Episodes:  18%|█▊        | 550/3000 [08:36<47:52,  1.17s/it]"
          ]
        },
        {
          "output_type": "stream",
          "name": "stdout",
          "text": [
            "\n",
            "Episode 550, Avg Reward: -167.00, Success Rate: 0.00%, Failure Rate: 48.00%, Neutral Rate: 52.00%\n"
          ]
        },
        {
          "output_type": "stream",
          "name": "stderr",
          "text": [
            "Training Episodes:  20%|██        | 600/3000 [09:35<46:57,  1.17s/it]"
          ]
        },
        {
          "output_type": "stream",
          "name": "stdout",
          "text": [
            "\n",
            "Episode 600, Avg Reward: -149.76, Success Rate: 0.00%, Failure Rate: 30.00%, Neutral Rate: 70.00%\n"
          ]
        },
        {
          "output_type": "stream",
          "name": "stderr",
          "text": [
            "Training Episodes:  22%|██▏       | 650/3000 [10:41<49:03,  1.25s/it]"
          ]
        },
        {
          "output_type": "stream",
          "name": "stdout",
          "text": [
            "\n",
            "Episode 650, Avg Reward: -148.64, Success Rate: 0.00%, Failure Rate: 28.00%, Neutral Rate: 72.00%\n"
          ]
        },
        {
          "output_type": "stream",
          "name": "stderr",
          "text": [
            "Training Episodes:  23%|██▎       | 700/3000 [11:51<56:41,  1.48s/it]"
          ]
        },
        {
          "output_type": "stream",
          "name": "stdout",
          "text": [
            "\n",
            "Episode 700, Avg Reward: -139.25, Success Rate: 2.00%, Failure Rate: 34.00%, Neutral Rate: 64.00%\n"
          ]
        },
        {
          "output_type": "stream",
          "name": "stderr",
          "text": [
            "Training Episodes:  25%|██▌       | 750/3000 [13:10<1:03:52,  1.70s/it]"
          ]
        },
        {
          "output_type": "stream",
          "name": "stdout",
          "text": [
            "\n",
            "Episode 750, Avg Reward: -145.43, Success Rate: 2.00%, Failure Rate: 34.00%, Neutral Rate: 64.00%\n"
          ]
        },
        {
          "output_type": "stream",
          "name": "stderr",
          "text": [
            "Training Episodes:  27%|██▋       | 800/3000 [14:27<45:28,  1.24s/it]"
          ]
        },
        {
          "output_type": "stream",
          "name": "stdout",
          "text": [
            "\n",
            "Episode 800, Avg Reward: -146.93, Success Rate: 0.00%, Failure Rate: 34.00%, Neutral Rate: 66.00%\n"
          ]
        },
        {
          "output_type": "stream",
          "name": "stderr",
          "text": [
            "Training Episodes:  28%|██▊       | 850/3000 [15:36<48:04,  1.34s/it]"
          ]
        },
        {
          "output_type": "stream",
          "name": "stdout",
          "text": [
            "\n",
            "Episode 850, Avg Reward: -159.73, Success Rate: 0.00%, Failure Rate: 40.00%, Neutral Rate: 60.00%\n"
          ]
        },
        {
          "output_type": "stream",
          "name": "stderr",
          "text": [
            "Training Episodes:  30%|███       | 900/3000 [16:44<42:25,  1.21s/it]"
          ]
        },
        {
          "output_type": "stream",
          "name": "stdout",
          "text": [
            "\n",
            "Episode 900, Avg Reward: -139.31, Success Rate: 0.00%, Failure Rate: 32.00%, Neutral Rate: 68.00%\n"
          ]
        },
        {
          "output_type": "stream",
          "name": "stderr",
          "text": [
            "Training Episodes:  32%|███▏      | 950/3000 [17:53<53:13,  1.56s/it]"
          ]
        },
        {
          "output_type": "stream",
          "name": "stdout",
          "text": [
            "\n",
            "Episode 950, Avg Reward: -129.11, Success Rate: 0.00%, Failure Rate: 30.00%, Neutral Rate: 70.00%\n"
          ]
        },
        {
          "output_type": "stream",
          "name": "stderr",
          "text": [
            "Training Episodes:  33%|███▎      | 1000/3000 [19:01<44:38,  1.34s/it]"
          ]
        },
        {
          "output_type": "stream",
          "name": "stdout",
          "text": [
            "\n",
            "Episode 1000, Avg Reward: -129.64, Success Rate: 0.00%, Failure Rate: 26.00%, Neutral Rate: 74.00%\n"
          ]
        },
        {
          "output_type": "stream",
          "name": "stderr",
          "text": [
            "Training Episodes:  35%|███▌      | 1050/3000 [20:05<46:16,  1.42s/it]"
          ]
        },
        {
          "output_type": "stream",
          "name": "stdout",
          "text": [
            "\n",
            "Episode 1050, Avg Reward: -133.10, Success Rate: 0.00%, Failure Rate: 22.00%, Neutral Rate: 78.00%\n"
          ]
        },
        {
          "output_type": "stream",
          "name": "stderr",
          "text": [
            "Training Episodes:  37%|███▋      | 1100/3000 [21:14<37:31,  1.19s/it]"
          ]
        },
        {
          "output_type": "stream",
          "name": "stdout",
          "text": [
            "\n",
            "Episode 1100, Avg Reward: -138.19, Success Rate: 0.00%, Failure Rate: 34.00%, Neutral Rate: 66.00%\n"
          ]
        },
        {
          "output_type": "stream",
          "name": "stderr",
          "text": [
            "Training Episodes:  38%|███▊      | 1150/3000 [22:18<51:27,  1.67s/it]"
          ]
        },
        {
          "output_type": "stream",
          "name": "stdout",
          "text": [
            "\n",
            "Episode 1150, Avg Reward: -123.27, Success Rate: 0.00%, Failure Rate: 22.00%, Neutral Rate: 78.00%\n"
          ]
        },
        {
          "output_type": "stream",
          "name": "stderr",
          "text": [
            "Training Episodes:  40%|████      | 1200/3000 [23:19<33:34,  1.12s/it]"
          ]
        },
        {
          "output_type": "stream",
          "name": "stdout",
          "text": [
            "\n",
            "Episode 1200, Avg Reward: -142.41, Success Rate: 0.00%, Failure Rate: 30.00%, Neutral Rate: 70.00%\n"
          ]
        },
        {
          "output_type": "stream",
          "name": "stderr",
          "text": [
            "Training Episodes:  42%|████▏     | 1250/3000 [24:22<46:46,  1.60s/it]"
          ]
        },
        {
          "output_type": "stream",
          "name": "stdout",
          "text": [
            "\n",
            "Episode 1250, Avg Reward: -132.84, Success Rate: 0.00%, Failure Rate: 24.00%, Neutral Rate: 76.00%\n"
          ]
        },
        {
          "output_type": "stream",
          "name": "stderr",
          "text": [
            "Training Episodes:  43%|████▎     | 1300/3000 [25:27<30:08,  1.06s/it]"
          ]
        },
        {
          "output_type": "stream",
          "name": "stdout",
          "text": [
            "\n",
            "Episode 1300, Avg Reward: -141.27, Success Rate: 0.00%, Failure Rate: 26.00%, Neutral Rate: 74.00%\n"
          ]
        },
        {
          "output_type": "stream",
          "name": "stderr",
          "text": [
            "Training Episodes:  45%|████▌     | 1350/3000 [26:29<35:08,  1.28s/it]"
          ]
        },
        {
          "output_type": "stream",
          "name": "stdout",
          "text": [
            "\n",
            "Episode 1350, Avg Reward: -129.44, Success Rate: 0.00%, Failure Rate: 26.00%, Neutral Rate: 74.00%\n"
          ]
        },
        {
          "output_type": "stream",
          "name": "stderr",
          "text": [
            "Training Episodes:  47%|████▋     | 1400/3000 [27:38<37:20,  1.40s/it]"
          ]
        },
        {
          "output_type": "stream",
          "name": "stdout",
          "text": [
            "\n",
            "Episode 1400, Avg Reward: -115.62, Success Rate: 2.00%, Failure Rate: 24.00%, Neutral Rate: 74.00%\n"
          ]
        },
        {
          "output_type": "stream",
          "name": "stderr",
          "text": [
            "Training Episodes:  48%|████▊     | 1450/3000 [28:57<37:37,  1.46s/it]"
          ]
        },
        {
          "output_type": "stream",
          "name": "stdout",
          "text": [
            "\n",
            "Episode 1450, Avg Reward: -115.66, Success Rate: 0.00%, Failure Rate: 16.00%, Neutral Rate: 84.00%\n"
          ]
        },
        {
          "output_type": "stream",
          "name": "stderr",
          "text": [
            "Training Episodes:  50%|█████     | 1500/3000 [30:08<33:09,  1.33s/it]"
          ]
        },
        {
          "output_type": "stream",
          "name": "stdout",
          "text": [
            "\n",
            "Episode 1500, Avg Reward: -114.49, Success Rate: 0.00%, Failure Rate: 14.00%, Neutral Rate: 86.00%\n"
          ]
        },
        {
          "output_type": "stream",
          "name": "stderr",
          "text": [
            "Training Episodes:  52%|█████▏    | 1550/3000 [31:12<33:03,  1.37s/it]"
          ]
        },
        {
          "output_type": "stream",
          "name": "stdout",
          "text": [
            "\n",
            "Episode 1550, Avg Reward: -121.13, Success Rate: 0.00%, Failure Rate: 10.00%, Neutral Rate: 90.00%\n"
          ]
        },
        {
          "output_type": "stream",
          "name": "stderr",
          "text": [
            "Training Episodes:  53%|█████▎    | 1600/3000 [32:21<30:23,  1.30s/it]"
          ]
        },
        {
          "output_type": "stream",
          "name": "stdout",
          "text": [
            "\n",
            "Episode 1600, Avg Reward: -102.30, Success Rate: 0.00%, Failure Rate: 14.00%, Neutral Rate: 86.00%\n"
          ]
        },
        {
          "output_type": "stream",
          "name": "stderr",
          "text": [
            "Training Episodes:  55%|█████▌    | 1650/3000 [33:29<34:42,  1.54s/it]"
          ]
        },
        {
          "output_type": "stream",
          "name": "stdout",
          "text": [
            "\n",
            "Episode 1650, Avg Reward: -108.98, Success Rate: 0.00%, Failure Rate: 10.00%, Neutral Rate: 90.00%\n"
          ]
        },
        {
          "output_type": "stream",
          "name": "stderr",
          "text": [
            "Training Episodes:  57%|█████▋    | 1700/3000 [34:41<31:50,  1.47s/it]"
          ]
        },
        {
          "output_type": "stream",
          "name": "stdout",
          "text": [
            "\n",
            "Episode 1700, Avg Reward: -101.70, Success Rate: 0.00%, Failure Rate: 8.00%, Neutral Rate: 92.00%\n"
          ]
        },
        {
          "output_type": "stream",
          "name": "stderr",
          "text": [
            "Training Episodes:  58%|█████▊    | 1750/3000 [35:54<26:17,  1.26s/it]"
          ]
        },
        {
          "output_type": "stream",
          "name": "stdout",
          "text": [
            "\n",
            "Episode 1750, Avg Reward: -101.68, Success Rate: 0.00%, Failure Rate: 14.00%, Neutral Rate: 86.00%\n"
          ]
        },
        {
          "output_type": "stream",
          "name": "stderr",
          "text": [
            "Training Episodes:  60%|██████    | 1800/3000 [37:03<27:00,  1.35s/it]"
          ]
        },
        {
          "output_type": "stream",
          "name": "stdout",
          "text": [
            "\n",
            "Episode 1800, Avg Reward: -74.86, Success Rate: 0.00%, Failure Rate: 6.00%, Neutral Rate: 94.00%\n"
          ]
        },
        {
          "output_type": "stream",
          "name": "stderr",
          "text": [
            "Training Episodes:  62%|██████▏   | 1850/3000 [38:09<24:33,  1.28s/it]"
          ]
        },
        {
          "output_type": "stream",
          "name": "stdout",
          "text": [
            "\n",
            "Episode 1850, Avg Reward: -88.56, Success Rate: 0.00%, Failure Rate: 4.00%, Neutral Rate: 96.00%\n"
          ]
        },
        {
          "output_type": "stream",
          "name": "stderr",
          "text": [
            "Training Episodes:  63%|██████▎   | 1900/3000 [39:11<27:53,  1.52s/it]"
          ]
        },
        {
          "output_type": "stream",
          "name": "stdout",
          "text": [
            "\n",
            "Episode 1900, Avg Reward: -86.75, Success Rate: 0.00%, Failure Rate: 0.00%, Neutral Rate: 100.00%\n"
          ]
        },
        {
          "output_type": "stream",
          "name": "stderr",
          "text": [
            "Training Episodes:  65%|██████▌   | 1950/3000 [40:31<28:24,  1.62s/it]"
          ]
        },
        {
          "output_type": "stream",
          "name": "stdout",
          "text": [
            "\n",
            "Episode 1950, Avg Reward: -66.36, Success Rate: 4.00%, Failure Rate: 2.00%, Neutral Rate: 94.00%\n"
          ]
        },
        {
          "output_type": "stream",
          "name": "stderr",
          "text": [
            "Training Episodes:  67%|██████▋   | 2000/3000 [42:01<28:53,  1.73s/it]"
          ]
        },
        {
          "output_type": "stream",
          "name": "stdout",
          "text": [
            "\n",
            "Episode 2000, Avg Reward: -76.76, Success Rate: 2.00%, Failure Rate: 4.00%, Neutral Rate: 94.00%\n"
          ]
        },
        {
          "output_type": "stream",
          "name": "stderr",
          "text": [
            "Training Episodes:  68%|██████▊   | 2050/3000 [43:52<29:16,  1.85s/it]"
          ]
        },
        {
          "output_type": "stream",
          "name": "stdout",
          "text": [
            "\n",
            "Episode 2050, Avg Reward: -55.61, Success Rate: 0.00%, Failure Rate: 0.00%, Neutral Rate: 100.00%\n"
          ]
        },
        {
          "output_type": "stream",
          "name": "stderr",
          "text": [
            "Training Episodes:  70%|███████   | 2100/3000 [45:42<25:38,  1.71s/it]"
          ]
        },
        {
          "output_type": "stream",
          "name": "stdout",
          "text": [
            "\n",
            "Episode 2100, Avg Reward: -50.15, Success Rate: 0.00%, Failure Rate: 0.00%, Neutral Rate: 100.00%\n"
          ]
        },
        {
          "output_type": "stream",
          "name": "stderr",
          "text": [
            "Training Episodes:  72%|███████▏  | 2150/3000 [47:35<32:06,  2.27s/it]"
          ]
        },
        {
          "output_type": "stream",
          "name": "stdout",
          "text": [
            "\n",
            "Episode 2150, Avg Reward: -61.58, Success Rate: 0.00%, Failure Rate: 2.00%, Neutral Rate: 98.00%\n"
          ]
        },
        {
          "output_type": "stream",
          "name": "stderr",
          "text": [
            "Training Episodes:  73%|███████▎  | 2200/3000 [49:25<39:45,  2.98s/it]"
          ]
        },
        {
          "output_type": "stream",
          "name": "stdout",
          "text": [
            "\n",
            "Episode 2200, Avg Reward: -59.35, Success Rate: 0.00%, Failure Rate: 6.00%, Neutral Rate: 94.00%\n"
          ]
        },
        {
          "output_type": "stream",
          "name": "stderr",
          "text": [
            "Training Episodes:  75%|███████▌  | 2250/3000 [51:30<33:26,  2.68s/it]"
          ]
        },
        {
          "output_type": "stream",
          "name": "stdout",
          "text": [
            "\n",
            "Episode 2250, Avg Reward: -36.52, Success Rate: 0.00%, Failure Rate: 2.00%, Neutral Rate: 98.00%\n"
          ]
        },
        {
          "output_type": "stream",
          "name": "stderr",
          "text": [
            "Training Episodes:  77%|███████▋  | 2300/3000 [54:48<50:39,  4.34s/it]  "
          ]
        },
        {
          "output_type": "stream",
          "name": "stdout",
          "text": [
            "\n",
            "Episode 2300, Avg Reward: -37.39, Success Rate: 2.00%, Failure Rate: 16.00%, Neutral Rate: 82.00%\n"
          ]
        },
        {
          "output_type": "stream",
          "name": "stderr",
          "text": [
            "Training Episodes:  78%|███████▊  | 2350/3000 [57:19<30:49,  2.85s/it]"
          ]
        },
        {
          "output_type": "stream",
          "name": "stdout",
          "text": [
            "\n",
            "Episode 2350, Avg Reward: -27.73, Success Rate: 2.00%, Failure Rate: 0.00%, Neutral Rate: 98.00%\n"
          ]
        },
        {
          "output_type": "stream",
          "name": "stderr",
          "text": [
            "Training Episodes:  80%|████████  | 2400/3000 [59:57<34:39,  3.47s/it]"
          ]
        },
        {
          "output_type": "stream",
          "name": "stdout",
          "text": [
            "\n",
            "Episode 2400, Avg Reward: -17.59, Success Rate: 0.00%, Failure Rate: 2.00%, Neutral Rate: 98.00%\n"
          ]
        },
        {
          "output_type": "stream",
          "name": "stderr",
          "text": [
            "Training Episodes:  82%|████████▏ | 2450/3000 [1:04:45<54:23,  5.93s/it]  "
          ]
        },
        {
          "output_type": "stream",
          "name": "stdout",
          "text": [
            "\n",
            "Episode 2450, Avg Reward: 7.70, Success Rate: 0.00%, Failure Rate: 2.00%, Neutral Rate: 98.00%\n"
          ]
        },
        {
          "output_type": "stream",
          "name": "stderr",
          "text": [
            "Training Episodes:  83%|████████▎ | 2500/3000 [1:08:44<33:31,  4.02s/it]"
          ]
        },
        {
          "output_type": "stream",
          "name": "stdout",
          "text": [
            "\n",
            "Episode 2500, Avg Reward: 12.66, Success Rate: 6.00%, Failure Rate: 2.00%, Neutral Rate: 92.00%\n"
          ]
        },
        {
          "output_type": "stream",
          "name": "stderr",
          "text": [
            "Training Episodes:  85%|████████▌ | 2550/3000 [1:13:36<13:18,  1.77s/it]"
          ]
        },
        {
          "output_type": "stream",
          "name": "stdout",
          "text": [
            "\n",
            "Episode 2550, Avg Reward: 9.94, Success Rate: 2.00%, Failure Rate: 0.00%, Neutral Rate: 98.00%\n"
          ]
        },
        {
          "output_type": "stream",
          "name": "stderr",
          "text": [
            "Training Episodes:  87%|████████▋ | 2600/3000 [1:17:37<25:32,  3.83s/it]"
          ]
        },
        {
          "output_type": "stream",
          "name": "stdout",
          "text": [
            "\n",
            "Episode 2600, Avg Reward: 12.31, Success Rate: 4.00%, Failure Rate: 2.00%, Neutral Rate: 94.00%\n"
          ]
        },
        {
          "output_type": "stream",
          "name": "stderr",
          "text": [
            "Training Episodes:  88%|████████▊ | 2650/3000 [1:21:19<10:55,  1.87s/it]"
          ]
        },
        {
          "output_type": "stream",
          "name": "stdout",
          "text": [
            "\n",
            "Episode 2650, Avg Reward: -4.32, Success Rate: 4.00%, Failure Rate: 4.00%, Neutral Rate: 92.00%\n"
          ]
        },
        {
          "output_type": "stream",
          "name": "stderr",
          "text": [
            "Training Episodes:  90%|█████████ | 2700/3000 [1:23:59<13:53,  2.78s/it]"
          ]
        },
        {
          "output_type": "stream",
          "name": "stdout",
          "text": [
            "\n",
            "Episode 2700, Avg Reward: 8.34, Success Rate: 6.00%, Failure Rate: 4.00%, Neutral Rate: 90.00%\n"
          ]
        },
        {
          "output_type": "stream",
          "name": "stderr",
          "text": [
            "Training Episodes:  92%|█████████▏| 2750/3000 [1:26:48<08:51,  2.13s/it]"
          ]
        },
        {
          "output_type": "stream",
          "name": "stdout",
          "text": [
            "\n",
            "Episode 2750, Avg Reward: -35.17, Success Rate: 2.00%, Failure Rate: 8.00%, Neutral Rate: 90.00%\n"
          ]
        },
        {
          "output_type": "stream",
          "name": "stderr",
          "text": [
            "Training Episodes:  93%|█████████▎| 2800/3000 [1:29:35<11:55,  3.58s/it]"
          ]
        },
        {
          "output_type": "stream",
          "name": "stdout",
          "text": [
            "\n",
            "Episode 2800, Avg Reward: -40.51, Success Rate: 0.00%, Failure Rate: 12.00%, Neutral Rate: 88.00%\n"
          ]
        },
        {
          "output_type": "stream",
          "name": "stderr",
          "text": [
            "Training Episodes:  95%|█████████▌| 2850/3000 [1:34:09<12:44,  5.09s/it]"
          ]
        },
        {
          "output_type": "stream",
          "name": "stdout",
          "text": [
            "\n",
            "Episode 2850, Avg Reward: 15.04, Success Rate: 2.00%, Failure Rate: 0.00%, Neutral Rate: 98.00%\n"
          ]
        },
        {
          "output_type": "stream",
          "name": "stderr",
          "text": [
            "Training Episodes:  97%|█████████▋| 2900/3000 [1:36:08<02:41,  1.61s/it]"
          ]
        },
        {
          "output_type": "stream",
          "name": "stdout",
          "text": [
            "\n",
            "Episode 2900, Avg Reward: -21.17, Success Rate: 0.00%, Failure Rate: 0.00%, Neutral Rate: 100.00%\n"
          ]
        },
        {
          "output_type": "stream",
          "name": "stderr",
          "text": [
            "Training Episodes:  98%|█████████▊| 2950/3000 [1:37:07<00:41,  1.21it/s]"
          ]
        },
        {
          "output_type": "stream",
          "name": "stdout",
          "text": [
            "\n",
            "Episode 2950, Avg Reward: -88.54, Success Rate: 0.00%, Failure Rate: 0.00%, Neutral Rate: 100.00%\n"
          ]
        },
        {
          "output_type": "stream",
          "name": "stderr",
          "text": [
            "Training Episodes: 100%|██████████| 3000/3000 [1:38:00<00:00,  1.96s/it]"
          ]
        },
        {
          "output_type": "stream",
          "name": "stdout",
          "text": [
            "\n",
            "Episode 3000, Avg Reward: -83.31, Success Rate: 0.00%, Failure Rate: 0.00%, Neutral Rate: 100.00%\n",
            "\n",
            "Final Results:\n",
            "Success Rate: 0.70%\n",
            "Failure Rate: 28.17%\n",
            "Neutral Rate: 71.13%\n"
          ]
        },
        {
          "output_type": "stream",
          "name": "stderr",
          "text": [
            "\n"
          ]
        },
        {
          "output_type": "display_data",
          "data": {
            "text/plain": [
              "<Figure size 1200x500 with 2 Axes>"
            ],
            "image/png": "[encoded data removed]"
          },
          "metadata": {}
        },
        {
          "output_type": "stream",
          "name": "stderr",
          "text": [
            "WARNING:imageio_ffmpeg:IMAGEIO FFMPEG_WRITER WARNING: input image is not divisible by macro_block_size=16, resizing from (600, 400) to (608, 400) to ensure video compatibility with most codecs and players. To prevent resizing, make your input image divisible by the macro_block_size or set the macro_block_size to 1 (risking incompatibility).\n"
          ]
        },
        {
          "output_type": "stream",
          "name": "stdout",
          "text": [
            "Saved episode 1 video to videos/lunar_ep1.mp4\n"
          ]
        }
      ]
    }
  ]
}